{
 "cells": [
  {
   "cell_type": "code",
   "execution_count": 1,
   "id": "6a236eeb",
   "metadata": {},
   "outputs": [
    {
     "name": "stdout",
     "output_type": "stream",
     "text": [
      "2450.367173382081\n"
     ]
    }
   ],
   "source": [
    "import pandas as pd\n",
    "import math\n",
    "\n",
    "# Load dataset\n",
    "url = \"https://gist.githubusercontent.com/tadast/8827699/raw/countries_codes_and_coordinates.csv\"\n",
    "df = pd.read_csv(url)\n",
    "\n",
    "df[\"Longitude (average)\"] = (\n",
    "    df[\"Longitude (average)\"]\n",
    "    .astype(str)\n",
    "    .str.replace('\"', '', regex=False)\n",
    "    .astype(float)\n",
    ")\n",
    "\n",
    "df[\"Latitude (average)\"] = (\n",
    "    df[\"Latitude (average)\"]\n",
    "    .astype(str)\n",
    "    .str.replace('\"', '', regex=False)\n",
    "    .astype(float)\n",
    ")\n",
    "\n",
    "df[\"Alpha-3 code\"] = (\n",
    "    df[\"Alpha-3 code\"]\n",
    "    .astype(str)\n",
    "    .str.replace('\"', '', regex=False)\n",
    "    .str.strip()\n",
    ")\n",
    "\n",
    "def haversine(lat1, lon1, lat2, lon2):\n",
    "    R = 6371.0\n",
    "    dlat = math.radians(lat2 - lat1)\n",
    "    dlon = math.radians(lon2 - lon1)\n",
    "    a = (math.sin(dlat / 2) ** 2 +\n",
    "         math.cos(math.radians(lat1)) *\n",
    "         math.cos(math.radians(lat2)) *\n",
    "         math.sin(dlon / 2) ** 2)\n",
    "    c = 2 * math.asin(math.sqrt(a))\n",
    "    return R * c\n",
    "\n",
    "def compute_distance(iso1, iso2):\n",
    "    iso1, iso2 = iso1.upper(), iso2.upper()\n",
    "    \n",
    "    if iso1 == iso2:\n",
    "        return 'They are equal'\n",
    "    \n",
    "    if iso1 not in df[\"Alpha-3 code\"].values or iso2 not in df[\"Alpha-3 code\"].values:\n",
    "        return f\"{iso1} or {iso2} doesn't exist\"\n",
    "\n",
    "    lat1, lon1 = df.loc[df[\"Alpha-3 code\"] == iso1, [\"Latitude (average)\", \"Longitude (average)\"]].values[0]\n",
    "    lat2, lon2 = df.loc[df[\"Alpha-3 code\"] == iso2, [\"Latitude (average)\", \"Longitude (average)\"]].values[0]\n",
    "    \n",
    "    return haversine(lat1, lon1, lat2, lon2)\n",
    "\n",
    "# Example usage:\n",
    "print(compute_distance(\"USA\", \"CAN\"))\n"
   ]
  },
  {
   "cell_type": "code",
   "execution_count": null,
   "id": "fa706dea",
   "metadata": {},
   "outputs": [],
   "source": []
  }
 ],
 "metadata": {
  "kernelspec": {
   "display_name": "complex_networks",
   "language": "python",
   "name": "python3"
  },
  "language_info": {
   "codemirror_mode": {
    "name": "ipython",
    "version": 3
   },
   "file_extension": ".py",
   "mimetype": "text/x-python",
   "name": "python",
   "nbconvert_exporter": "python",
   "pygments_lexer": "ipython3",
   "version": "3.10.18"
  }
 },
 "nbformat": 4,
 "nbformat_minor": 5
}
